{
 "cells": [
  {
   "cell_type": "code",
   "execution_count": 258,
   "id": "9dd5163b-424c-4998-bfee-793c7677daf7",
   "metadata": {},
   "outputs": [],
   "source": [
    "import pandas as pd\n",
    "import numpy as np\n",
    "import matplotlib.pyplot as plt\n",
    "import seaborn as sns"
   ]
  },
  {
   "cell_type": "code",
   "execution_count": 260,
   "id": "518c3b9e-0f86-428c-9387-c3a8974bb318",
   "metadata": {},
   "outputs": [
    {
     "data": {
      "text/html": [
       "<div>\n",
       "<style scoped>\n",
       "    .dataframe tbody tr th:only-of-type {\n",
       "        vertical-align: middle;\n",
       "    }\n",
       "\n",
       "    .dataframe tbody tr th {\n",
       "        vertical-align: top;\n",
       "    }\n",
       "\n",
       "    .dataframe thead th {\n",
       "        text-align: right;\n",
       "    }\n",
       "</style>\n",
       "<table border=\"1\" class=\"dataframe\">\n",
       "  <thead>\n",
       "    <tr style=\"text-align: right;\">\n",
       "      <th></th>\n",
       "      <th>2401</th>\n",
       "      <th>Borderlands</th>\n",
       "      <th>Positive</th>\n",
       "      <th>im getting on borderlands and i will murder you all ,</th>\n",
       "    </tr>\n",
       "  </thead>\n",
       "  <tbody>\n",
       "    <tr>\n",
       "      <th>0</th>\n",
       "      <td>2401</td>\n",
       "      <td>Borderlands</td>\n",
       "      <td>Positive</td>\n",
       "      <td>I am coming to the borders and I will kill you...</td>\n",
       "    </tr>\n",
       "    <tr>\n",
       "      <th>1</th>\n",
       "      <td>2401</td>\n",
       "      <td>Borderlands</td>\n",
       "      <td>Positive</td>\n",
       "      <td>im getting on borderlands and i will kill you ...</td>\n",
       "    </tr>\n",
       "    <tr>\n",
       "      <th>2</th>\n",
       "      <td>2401</td>\n",
       "      <td>Borderlands</td>\n",
       "      <td>Positive</td>\n",
       "      <td>im coming on borderlands and i will murder you...</td>\n",
       "    </tr>\n",
       "    <tr>\n",
       "      <th>3</th>\n",
       "      <td>2401</td>\n",
       "      <td>Borderlands</td>\n",
       "      <td>Positive</td>\n",
       "      <td>im getting on borderlands 2 and i will murder ...</td>\n",
       "    </tr>\n",
       "    <tr>\n",
       "      <th>4</th>\n",
       "      <td>2401</td>\n",
       "      <td>Borderlands</td>\n",
       "      <td>Positive</td>\n",
       "      <td>im getting into borderlands and i can murder y...</td>\n",
       "    </tr>\n",
       "    <tr>\n",
       "      <th>...</th>\n",
       "      <td>...</td>\n",
       "      <td>...</td>\n",
       "      <td>...</td>\n",
       "      <td>...</td>\n",
       "    </tr>\n",
       "    <tr>\n",
       "      <th>74676</th>\n",
       "      <td>9200</td>\n",
       "      <td>Nvidia</td>\n",
       "      <td>Positive</td>\n",
       "      <td>Just realized that the Windows partition of my...</td>\n",
       "    </tr>\n",
       "    <tr>\n",
       "      <th>74677</th>\n",
       "      <td>9200</td>\n",
       "      <td>Nvidia</td>\n",
       "      <td>Positive</td>\n",
       "      <td>Just realized that my Mac window partition is ...</td>\n",
       "    </tr>\n",
       "    <tr>\n",
       "      <th>74678</th>\n",
       "      <td>9200</td>\n",
       "      <td>Nvidia</td>\n",
       "      <td>Positive</td>\n",
       "      <td>Just realized the windows partition of my Mac ...</td>\n",
       "    </tr>\n",
       "    <tr>\n",
       "      <th>74679</th>\n",
       "      <td>9200</td>\n",
       "      <td>Nvidia</td>\n",
       "      <td>Positive</td>\n",
       "      <td>Just realized between the windows partition of...</td>\n",
       "    </tr>\n",
       "    <tr>\n",
       "      <th>74680</th>\n",
       "      <td>9200</td>\n",
       "      <td>Nvidia</td>\n",
       "      <td>Positive</td>\n",
       "      <td>Just like the windows partition of my Mac is l...</td>\n",
       "    </tr>\n",
       "  </tbody>\n",
       "</table>\n",
       "<p>74681 rows × 4 columns</p>\n",
       "</div>"
      ],
      "text/plain": [
       "       2401  Borderlands  Positive  \\\n",
       "0      2401  Borderlands  Positive   \n",
       "1      2401  Borderlands  Positive   \n",
       "2      2401  Borderlands  Positive   \n",
       "3      2401  Borderlands  Positive   \n",
       "4      2401  Borderlands  Positive   \n",
       "...     ...          ...       ...   \n",
       "74676  9200       Nvidia  Positive   \n",
       "74677  9200       Nvidia  Positive   \n",
       "74678  9200       Nvidia  Positive   \n",
       "74679  9200       Nvidia  Positive   \n",
       "74680  9200       Nvidia  Positive   \n",
       "\n",
       "      im getting on borderlands and i will murder you all ,  \n",
       "0      I am coming to the borders and I will kill you...     \n",
       "1      im getting on borderlands and i will kill you ...     \n",
       "2      im coming on borderlands and i will murder you...     \n",
       "3      im getting on borderlands 2 and i will murder ...     \n",
       "4      im getting into borderlands and i can murder y...     \n",
       "...                                                  ...     \n",
       "74676  Just realized that the Windows partition of my...     \n",
       "74677  Just realized that my Mac window partition is ...     \n",
       "74678  Just realized the windows partition of my Mac ...     \n",
       "74679  Just realized between the windows partition of...     \n",
       "74680  Just like the windows partition of my Mac is l...     \n",
       "\n",
       "[74681 rows x 4 columns]"
      ]
     },
     "execution_count": 260,
     "metadata": {},
     "output_type": "execute_result"
    }
   ],
   "source": [
    "data=pd.read_csv(r'C:\\Users\\Abhi\\Desktop\\twitter_training.csv')\n",
    "data"
   ]
  },
  {
   "cell_type": "code",
   "execution_count": 261,
   "id": "56bbd162-a7ff-492f-ba80-ab78c0f54a08",
   "metadata": {},
   "outputs": [
    {
     "data": {
      "text/html": [
       "<div>\n",
       "<style scoped>\n",
       "    .dataframe tbody tr th:only-of-type {\n",
       "        vertical-align: middle;\n",
       "    }\n",
       "\n",
       "    .dataframe tbody tr th {\n",
       "        vertical-align: top;\n",
       "    }\n",
       "\n",
       "    .dataframe thead th {\n",
       "        text-align: right;\n",
       "    }\n",
       "</style>\n",
       "<table border=\"1\" class=\"dataframe\">\n",
       "  <thead>\n",
       "    <tr style=\"text-align: right;\">\n",
       "      <th></th>\n",
       "      <th>3364</th>\n",
       "      <th>Facebook</th>\n",
       "      <th>Irrelevant</th>\n",
       "      <th>I mentioned on Facebook that I was struggling for motivation to go for a run the other day, which has been translated by Tom’s great auntie as ‘Hayley can’t get out of bed’ and told to his grandma, who now thinks I’m a lazy, terrible person 🤣</th>\n",
       "    </tr>\n",
       "  </thead>\n",
       "  <tbody>\n",
       "    <tr>\n",
       "      <th>0</th>\n",
       "      <td>352</td>\n",
       "      <td>Amazon</td>\n",
       "      <td>Neutral</td>\n",
       "      <td>BBC News - Amazon boss Jeff Bezos rejects clai...</td>\n",
       "    </tr>\n",
       "    <tr>\n",
       "      <th>1</th>\n",
       "      <td>8312</td>\n",
       "      <td>Microsoft</td>\n",
       "      <td>Negative</td>\n",
       "      <td>@Microsoft Why do I pay for WORD when it funct...</td>\n",
       "    </tr>\n",
       "    <tr>\n",
       "      <th>2</th>\n",
       "      <td>4371</td>\n",
       "      <td>CS-GO</td>\n",
       "      <td>Negative</td>\n",
       "      <td>CSGO matchmaking is so full of closet hacking,...</td>\n",
       "    </tr>\n",
       "    <tr>\n",
       "      <th>3</th>\n",
       "      <td>4433</td>\n",
       "      <td>Google</td>\n",
       "      <td>Neutral</td>\n",
       "      <td>Now the President is slapping Americans in the...</td>\n",
       "    </tr>\n",
       "    <tr>\n",
       "      <th>4</th>\n",
       "      <td>6273</td>\n",
       "      <td>FIFA</td>\n",
       "      <td>Negative</td>\n",
       "      <td>Hi @EAHelp I’ve had Madeleine McCann in my cel...</td>\n",
       "    </tr>\n",
       "    <tr>\n",
       "      <th>...</th>\n",
       "      <td>...</td>\n",
       "      <td>...</td>\n",
       "      <td>...</td>\n",
       "      <td>...</td>\n",
       "    </tr>\n",
       "    <tr>\n",
       "      <th>994</th>\n",
       "      <td>4891</td>\n",
       "      <td>GrandTheftAuto(GTA)</td>\n",
       "      <td>Irrelevant</td>\n",
       "      <td>⭐️ Toronto is the arts and culture capital of ...</td>\n",
       "    </tr>\n",
       "    <tr>\n",
       "      <th>995</th>\n",
       "      <td>4359</td>\n",
       "      <td>CS-GO</td>\n",
       "      <td>Irrelevant</td>\n",
       "      <td>tHIS IS ACTUALLY A GOOD MOVE TOT BRING MORE VI...</td>\n",
       "    </tr>\n",
       "    <tr>\n",
       "      <th>996</th>\n",
       "      <td>2652</td>\n",
       "      <td>Borderlands</td>\n",
       "      <td>Positive</td>\n",
       "      <td>Today sucked so it’s time to drink wine n play...</td>\n",
       "    </tr>\n",
       "    <tr>\n",
       "      <th>997</th>\n",
       "      <td>8069</td>\n",
       "      <td>Microsoft</td>\n",
       "      <td>Positive</td>\n",
       "      <td>Bought a fraction of Microsoft today. Small wins.</td>\n",
       "    </tr>\n",
       "    <tr>\n",
       "      <th>998</th>\n",
       "      <td>6960</td>\n",
       "      <td>johnson&amp;johnson</td>\n",
       "      <td>Neutral</td>\n",
       "      <td>Johnson &amp; Johnson to stop selling talc baby po...</td>\n",
       "    </tr>\n",
       "  </tbody>\n",
       "</table>\n",
       "<p>999 rows × 4 columns</p>\n",
       "</div>"
      ],
      "text/plain": [
       "     3364             Facebook  Irrelevant  \\\n",
       "0     352               Amazon     Neutral   \n",
       "1    8312            Microsoft    Negative   \n",
       "2    4371                CS-GO    Negative   \n",
       "3    4433               Google     Neutral   \n",
       "4    6273                 FIFA    Negative   \n",
       "..    ...                  ...         ...   \n",
       "994  4891  GrandTheftAuto(GTA)  Irrelevant   \n",
       "995  4359                CS-GO  Irrelevant   \n",
       "996  2652          Borderlands    Positive   \n",
       "997  8069            Microsoft    Positive   \n",
       "998  6960      johnson&johnson     Neutral   \n",
       "\n",
       "    I mentioned on Facebook that I was struggling for motivation to go for a run the other day, which has been translated by Tom’s great auntie as ‘Hayley can’t get out of bed’ and told to his grandma, who now thinks I’m a lazy, terrible person 🤣  \n",
       "0    BBC News - Amazon boss Jeff Bezos rejects clai...                                                                                                                                                                                                  \n",
       "1    @Microsoft Why do I pay for WORD when it funct...                                                                                                                                                                                                  \n",
       "2    CSGO matchmaking is so full of closet hacking,...                                                                                                                                                                                                  \n",
       "3    Now the President is slapping Americans in the...                                                                                                                                                                                                  \n",
       "4    Hi @EAHelp I’ve had Madeleine McCann in my cel...                                                                                                                                                                                                  \n",
       "..                                                 ...                                                                                                                                                                                                  \n",
       "994  ⭐️ Toronto is the arts and culture capital of ...                                                                                                                                                                                                  \n",
       "995  tHIS IS ACTUALLY A GOOD MOVE TOT BRING MORE VI...                                                                                                                                                                                                  \n",
       "996  Today sucked so it’s time to drink wine n play...                                                                                                                                                                                                  \n",
       "997  Bought a fraction of Microsoft today. Small wins.                                                                                                                                                                                                  \n",
       "998  Johnson & Johnson to stop selling talc baby po...                                                                                                                                                                                                  \n",
       "\n",
       "[999 rows x 4 columns]"
      ]
     },
     "execution_count": 261,
     "metadata": {},
     "output_type": "execute_result"
    }
   ],
   "source": [
    "v_data=pd.read_csv(r'C:\\Users\\Abhi\\Desktop\\twitter_validation.csv')\n",
    "v_data"
   ]
  },
  {
   "cell_type": "code",
   "execution_count": 264,
   "id": "886f175e-1df7-4fb4-9656-7a8bc95425a4",
   "metadata": {},
   "outputs": [],
   "source": [
    "data.columns=['id','game','sentiment','text']\n",
    "v_data.columns=['id','game','sentiment','text']"
   ]
  },
  {
   "cell_type": "code",
   "execution_count": 266,
   "id": "5598000c-4eb7-49d8-bb13-8589d7272c5f",
   "metadata": {},
   "outputs": [
    {
     "data": {
      "text/html": [
       "<div>\n",
       "<style scoped>\n",
       "    .dataframe tbody tr th:only-of-type {\n",
       "        vertical-align: middle;\n",
       "    }\n",
       "\n",
       "    .dataframe tbody tr th {\n",
       "        vertical-align: top;\n",
       "    }\n",
       "\n",
       "    .dataframe thead th {\n",
       "        text-align: right;\n",
       "    }\n",
       "</style>\n",
       "<table border=\"1\" class=\"dataframe\">\n",
       "  <thead>\n",
       "    <tr style=\"text-align: right;\">\n",
       "      <th></th>\n",
       "      <th>id</th>\n",
       "      <th>game</th>\n",
       "      <th>sentiment</th>\n",
       "      <th>text</th>\n",
       "    </tr>\n",
       "  </thead>\n",
       "  <tbody>\n",
       "    <tr>\n",
       "      <th>0</th>\n",
       "      <td>2401</td>\n",
       "      <td>Borderlands</td>\n",
       "      <td>Positive</td>\n",
       "      <td>I am coming to the borders and I will kill you...</td>\n",
       "    </tr>\n",
       "    <tr>\n",
       "      <th>1</th>\n",
       "      <td>2401</td>\n",
       "      <td>Borderlands</td>\n",
       "      <td>Positive</td>\n",
       "      <td>im getting on borderlands and i will kill you ...</td>\n",
       "    </tr>\n",
       "    <tr>\n",
       "      <th>2</th>\n",
       "      <td>2401</td>\n",
       "      <td>Borderlands</td>\n",
       "      <td>Positive</td>\n",
       "      <td>im coming on borderlands and i will murder you...</td>\n",
       "    </tr>\n",
       "    <tr>\n",
       "      <th>3</th>\n",
       "      <td>2401</td>\n",
       "      <td>Borderlands</td>\n",
       "      <td>Positive</td>\n",
       "      <td>im getting on borderlands 2 and i will murder ...</td>\n",
       "    </tr>\n",
       "    <tr>\n",
       "      <th>4</th>\n",
       "      <td>2401</td>\n",
       "      <td>Borderlands</td>\n",
       "      <td>Positive</td>\n",
       "      <td>im getting into borderlands and i can murder y...</td>\n",
       "    </tr>\n",
       "    <tr>\n",
       "      <th>...</th>\n",
       "      <td>...</td>\n",
       "      <td>...</td>\n",
       "      <td>...</td>\n",
       "      <td>...</td>\n",
       "    </tr>\n",
       "    <tr>\n",
       "      <th>74676</th>\n",
       "      <td>9200</td>\n",
       "      <td>Nvidia</td>\n",
       "      <td>Positive</td>\n",
       "      <td>Just realized that the Windows partition of my...</td>\n",
       "    </tr>\n",
       "    <tr>\n",
       "      <th>74677</th>\n",
       "      <td>9200</td>\n",
       "      <td>Nvidia</td>\n",
       "      <td>Positive</td>\n",
       "      <td>Just realized that my Mac window partition is ...</td>\n",
       "    </tr>\n",
       "    <tr>\n",
       "      <th>74678</th>\n",
       "      <td>9200</td>\n",
       "      <td>Nvidia</td>\n",
       "      <td>Positive</td>\n",
       "      <td>Just realized the windows partition of my Mac ...</td>\n",
       "    </tr>\n",
       "    <tr>\n",
       "      <th>74679</th>\n",
       "      <td>9200</td>\n",
       "      <td>Nvidia</td>\n",
       "      <td>Positive</td>\n",
       "      <td>Just realized between the windows partition of...</td>\n",
       "    </tr>\n",
       "    <tr>\n",
       "      <th>74680</th>\n",
       "      <td>9200</td>\n",
       "      <td>Nvidia</td>\n",
       "      <td>Positive</td>\n",
       "      <td>Just like the windows partition of my Mac is l...</td>\n",
       "    </tr>\n",
       "  </tbody>\n",
       "</table>\n",
       "<p>74681 rows × 4 columns</p>\n",
       "</div>"
      ],
      "text/plain": [
       "         id         game sentiment  \\\n",
       "0      2401  Borderlands  Positive   \n",
       "1      2401  Borderlands  Positive   \n",
       "2      2401  Borderlands  Positive   \n",
       "3      2401  Borderlands  Positive   \n",
       "4      2401  Borderlands  Positive   \n",
       "...     ...          ...       ...   \n",
       "74676  9200       Nvidia  Positive   \n",
       "74677  9200       Nvidia  Positive   \n",
       "74678  9200       Nvidia  Positive   \n",
       "74679  9200       Nvidia  Positive   \n",
       "74680  9200       Nvidia  Positive   \n",
       "\n",
       "                                                    text  \n",
       "0      I am coming to the borders and I will kill you...  \n",
       "1      im getting on borderlands and i will kill you ...  \n",
       "2      im coming on borderlands and i will murder you...  \n",
       "3      im getting on borderlands 2 and i will murder ...  \n",
       "4      im getting into borderlands and i can murder y...  \n",
       "...                                                  ...  \n",
       "74676  Just realized that the Windows partition of my...  \n",
       "74677  Just realized that my Mac window partition is ...  \n",
       "74678  Just realized the windows partition of my Mac ...  \n",
       "74679  Just realized between the windows partition of...  \n",
       "74680  Just like the windows partition of my Mac is l...  \n",
       "\n",
       "[74681 rows x 4 columns]"
      ]
     },
     "execution_count": 266,
     "metadata": {},
     "output_type": "execute_result"
    }
   ],
   "source": [
    "data"
   ]
  },
  {
   "cell_type": "code",
   "execution_count": 268,
   "id": "1107bcfa-9509-4f33-ab9b-9b8453fd8060",
   "metadata": {},
   "outputs": [
    {
     "data": {
      "text/html": [
       "<div>\n",
       "<style scoped>\n",
       "    .dataframe tbody tr th:only-of-type {\n",
       "        vertical-align: middle;\n",
       "    }\n",
       "\n",
       "    .dataframe tbody tr th {\n",
       "        vertical-align: top;\n",
       "    }\n",
       "\n",
       "    .dataframe thead th {\n",
       "        text-align: right;\n",
       "    }\n",
       "</style>\n",
       "<table border=\"1\" class=\"dataframe\">\n",
       "  <thead>\n",
       "    <tr style=\"text-align: right;\">\n",
       "      <th></th>\n",
       "      <th>id</th>\n",
       "      <th>game</th>\n",
       "      <th>sentiment</th>\n",
       "      <th>text</th>\n",
       "    </tr>\n",
       "  </thead>\n",
       "  <tbody>\n",
       "    <tr>\n",
       "      <th>0</th>\n",
       "      <td>352</td>\n",
       "      <td>Amazon</td>\n",
       "      <td>Neutral</td>\n",
       "      <td>BBC News - Amazon boss Jeff Bezos rejects clai...</td>\n",
       "    </tr>\n",
       "    <tr>\n",
       "      <th>1</th>\n",
       "      <td>8312</td>\n",
       "      <td>Microsoft</td>\n",
       "      <td>Negative</td>\n",
       "      <td>@Microsoft Why do I pay for WORD when it funct...</td>\n",
       "    </tr>\n",
       "    <tr>\n",
       "      <th>2</th>\n",
       "      <td>4371</td>\n",
       "      <td>CS-GO</td>\n",
       "      <td>Negative</td>\n",
       "      <td>CSGO matchmaking is so full of closet hacking,...</td>\n",
       "    </tr>\n",
       "    <tr>\n",
       "      <th>3</th>\n",
       "      <td>4433</td>\n",
       "      <td>Google</td>\n",
       "      <td>Neutral</td>\n",
       "      <td>Now the President is slapping Americans in the...</td>\n",
       "    </tr>\n",
       "    <tr>\n",
       "      <th>4</th>\n",
       "      <td>6273</td>\n",
       "      <td>FIFA</td>\n",
       "      <td>Negative</td>\n",
       "      <td>Hi @EAHelp I’ve had Madeleine McCann in my cel...</td>\n",
       "    </tr>\n",
       "    <tr>\n",
       "      <th>...</th>\n",
       "      <td>...</td>\n",
       "      <td>...</td>\n",
       "      <td>...</td>\n",
       "      <td>...</td>\n",
       "    </tr>\n",
       "    <tr>\n",
       "      <th>994</th>\n",
       "      <td>4891</td>\n",
       "      <td>GrandTheftAuto(GTA)</td>\n",
       "      <td>Irrelevant</td>\n",
       "      <td>⭐️ Toronto is the arts and culture capital of ...</td>\n",
       "    </tr>\n",
       "    <tr>\n",
       "      <th>995</th>\n",
       "      <td>4359</td>\n",
       "      <td>CS-GO</td>\n",
       "      <td>Irrelevant</td>\n",
       "      <td>tHIS IS ACTUALLY A GOOD MOVE TOT BRING MORE VI...</td>\n",
       "    </tr>\n",
       "    <tr>\n",
       "      <th>996</th>\n",
       "      <td>2652</td>\n",
       "      <td>Borderlands</td>\n",
       "      <td>Positive</td>\n",
       "      <td>Today sucked so it’s time to drink wine n play...</td>\n",
       "    </tr>\n",
       "    <tr>\n",
       "      <th>997</th>\n",
       "      <td>8069</td>\n",
       "      <td>Microsoft</td>\n",
       "      <td>Positive</td>\n",
       "      <td>Bought a fraction of Microsoft today. Small wins.</td>\n",
       "    </tr>\n",
       "    <tr>\n",
       "      <th>998</th>\n",
       "      <td>6960</td>\n",
       "      <td>johnson&amp;johnson</td>\n",
       "      <td>Neutral</td>\n",
       "      <td>Johnson &amp; Johnson to stop selling talc baby po...</td>\n",
       "    </tr>\n",
       "  </tbody>\n",
       "</table>\n",
       "<p>999 rows × 4 columns</p>\n",
       "</div>"
      ],
      "text/plain": [
       "       id                 game   sentiment  \\\n",
       "0     352               Amazon     Neutral   \n",
       "1    8312            Microsoft    Negative   \n",
       "2    4371                CS-GO    Negative   \n",
       "3    4433               Google     Neutral   \n",
       "4    6273                 FIFA    Negative   \n",
       "..    ...                  ...         ...   \n",
       "994  4891  GrandTheftAuto(GTA)  Irrelevant   \n",
       "995  4359                CS-GO  Irrelevant   \n",
       "996  2652          Borderlands    Positive   \n",
       "997  8069            Microsoft    Positive   \n",
       "998  6960      johnson&johnson     Neutral   \n",
       "\n",
       "                                                  text  \n",
       "0    BBC News - Amazon boss Jeff Bezos rejects clai...  \n",
       "1    @Microsoft Why do I pay for WORD when it funct...  \n",
       "2    CSGO matchmaking is so full of closet hacking,...  \n",
       "3    Now the President is slapping Americans in the...  \n",
       "4    Hi @EAHelp I’ve had Madeleine McCann in my cel...  \n",
       "..                                                 ...  \n",
       "994  ⭐️ Toronto is the arts and culture capital of ...  \n",
       "995  tHIS IS ACTUALLY A GOOD MOVE TOT BRING MORE VI...  \n",
       "996  Today sucked so it’s time to drink wine n play...  \n",
       "997  Bought a fraction of Microsoft today. Small wins.  \n",
       "998  Johnson & Johnson to stop selling talc baby po...  \n",
       "\n",
       "[999 rows x 4 columns]"
      ]
     },
     "execution_count": 268,
     "metadata": {},
     "output_type": "execute_result"
    }
   ],
   "source": [
    "v_data"
   ]
  },
  {
   "cell_type": "code",
   "execution_count": 270,
   "id": "b42f6ee1-6a77-4abf-98c2-e63e7ad9feb4",
   "metadata": {},
   "outputs": [
    {
     "data": {
      "text/plain": [
       "(74681, 4)"
      ]
     },
     "execution_count": 270,
     "metadata": {},
     "output_type": "execute_result"
    }
   ],
   "source": [
    "data.shape"
   ]
  },
  {
   "cell_type": "code",
   "execution_count": 272,
   "id": "585684d2-0a62-4a62-b25b-5b9ae6c19b2c",
   "metadata": {},
   "outputs": [
    {
     "data": {
      "text/html": [
       "<div>\n",
       "<style scoped>\n",
       "    .dataframe tbody tr th:only-of-type {\n",
       "        vertical-align: middle;\n",
       "    }\n",
       "\n",
       "    .dataframe tbody tr th {\n",
       "        vertical-align: top;\n",
       "    }\n",
       "\n",
       "    .dataframe thead th {\n",
       "        text-align: right;\n",
       "    }\n",
       "</style>\n",
       "<table border=\"1\" class=\"dataframe\">\n",
       "  <thead>\n",
       "    <tr style=\"text-align: right;\">\n",
       "      <th></th>\n",
       "      <th>id</th>\n",
       "    </tr>\n",
       "  </thead>\n",
       "  <tbody>\n",
       "    <tr>\n",
       "      <th>count</th>\n",
       "      <td>74681.000000</td>\n",
       "    </tr>\n",
       "    <tr>\n",
       "      <th>mean</th>\n",
       "      <td>6432.640149</td>\n",
       "    </tr>\n",
       "    <tr>\n",
       "      <th>std</th>\n",
       "      <td>3740.423819</td>\n",
       "    </tr>\n",
       "    <tr>\n",
       "      <th>min</th>\n",
       "      <td>1.000000</td>\n",
       "    </tr>\n",
       "    <tr>\n",
       "      <th>25%</th>\n",
       "      <td>3195.000000</td>\n",
       "    </tr>\n",
       "    <tr>\n",
       "      <th>50%</th>\n",
       "      <td>6422.000000</td>\n",
       "    </tr>\n",
       "    <tr>\n",
       "      <th>75%</th>\n",
       "      <td>9601.000000</td>\n",
       "    </tr>\n",
       "    <tr>\n",
       "      <th>max</th>\n",
       "      <td>13200.000000</td>\n",
       "    </tr>\n",
       "  </tbody>\n",
       "</table>\n",
       "</div>"
      ],
      "text/plain": [
       "                 id\n",
       "count  74681.000000\n",
       "mean    6432.640149\n",
       "std     3740.423819\n",
       "min        1.000000\n",
       "25%     3195.000000\n",
       "50%     6422.000000\n",
       "75%     9601.000000\n",
       "max    13200.000000"
      ]
     },
     "execution_count": 272,
     "metadata": {},
     "output_type": "execute_result"
    }
   ],
   "source": [
    "data.describe()"
   ]
  },
  {
   "cell_type": "code",
   "execution_count": 274,
   "id": "b5585b61-837f-43fc-99d7-c63d4b1aaced",
   "metadata": {},
   "outputs": [
    {
     "data": {
      "text/html": [
       "<div>\n",
       "<style scoped>\n",
       "    .dataframe tbody tr th:only-of-type {\n",
       "        vertical-align: middle;\n",
       "    }\n",
       "\n",
       "    .dataframe tbody tr th {\n",
       "        vertical-align: top;\n",
       "    }\n",
       "\n",
       "    .dataframe thead th {\n",
       "        text-align: right;\n",
       "    }\n",
       "</style>\n",
       "<table border=\"1\" class=\"dataframe\">\n",
       "  <thead>\n",
       "    <tr style=\"text-align: right;\">\n",
       "      <th></th>\n",
       "      <th>id</th>\n",
       "      <th>game</th>\n",
       "      <th>sentiment</th>\n",
       "      <th>text</th>\n",
       "    </tr>\n",
       "  </thead>\n",
       "  <tbody>\n",
       "    <tr>\n",
       "      <th>count</th>\n",
       "      <td>74681.000000</td>\n",
       "      <td>74681</td>\n",
       "      <td>74681</td>\n",
       "      <td>73995</td>\n",
       "    </tr>\n",
       "    <tr>\n",
       "      <th>unique</th>\n",
       "      <td>NaN</td>\n",
       "      <td>32</td>\n",
       "      <td>4</td>\n",
       "      <td>69490</td>\n",
       "    </tr>\n",
       "    <tr>\n",
       "      <th>top</th>\n",
       "      <td>NaN</td>\n",
       "      <td>TomClancysRainbowSix</td>\n",
       "      <td>Negative</td>\n",
       "      <td></td>\n",
       "    </tr>\n",
       "    <tr>\n",
       "      <th>freq</th>\n",
       "      <td>NaN</td>\n",
       "      <td>2400</td>\n",
       "      <td>22542</td>\n",
       "      <td>172</td>\n",
       "    </tr>\n",
       "    <tr>\n",
       "      <th>mean</th>\n",
       "      <td>6432.640149</td>\n",
       "      <td>NaN</td>\n",
       "      <td>NaN</td>\n",
       "      <td>NaN</td>\n",
       "    </tr>\n",
       "    <tr>\n",
       "      <th>std</th>\n",
       "      <td>3740.423819</td>\n",
       "      <td>NaN</td>\n",
       "      <td>NaN</td>\n",
       "      <td>NaN</td>\n",
       "    </tr>\n",
       "    <tr>\n",
       "      <th>min</th>\n",
       "      <td>1.000000</td>\n",
       "      <td>NaN</td>\n",
       "      <td>NaN</td>\n",
       "      <td>NaN</td>\n",
       "    </tr>\n",
       "    <tr>\n",
       "      <th>25%</th>\n",
       "      <td>3195.000000</td>\n",
       "      <td>NaN</td>\n",
       "      <td>NaN</td>\n",
       "      <td>NaN</td>\n",
       "    </tr>\n",
       "    <tr>\n",
       "      <th>50%</th>\n",
       "      <td>6422.000000</td>\n",
       "      <td>NaN</td>\n",
       "      <td>NaN</td>\n",
       "      <td>NaN</td>\n",
       "    </tr>\n",
       "    <tr>\n",
       "      <th>75%</th>\n",
       "      <td>9601.000000</td>\n",
       "      <td>NaN</td>\n",
       "      <td>NaN</td>\n",
       "      <td>NaN</td>\n",
       "    </tr>\n",
       "    <tr>\n",
       "      <th>max</th>\n",
       "      <td>13200.000000</td>\n",
       "      <td>NaN</td>\n",
       "      <td>NaN</td>\n",
       "      <td>NaN</td>\n",
       "    </tr>\n",
       "  </tbody>\n",
       "</table>\n",
       "</div>"
      ],
      "text/plain": [
       "                  id                  game sentiment   text\n",
       "count   74681.000000                 74681     74681  73995\n",
       "unique           NaN                    32         4  69490\n",
       "top              NaN  TomClancysRainbowSix  Negative       \n",
       "freq             NaN                  2400     22542    172\n",
       "mean     6432.640149                   NaN       NaN    NaN\n",
       "std      3740.423819                   NaN       NaN    NaN\n",
       "min         1.000000                   NaN       NaN    NaN\n",
       "25%      3195.000000                   NaN       NaN    NaN\n",
       "50%      6422.000000                   NaN       NaN    NaN\n",
       "75%      9601.000000                   NaN       NaN    NaN\n",
       "max     13200.000000                   NaN       NaN    NaN"
      ]
     },
     "execution_count": 274,
     "metadata": {},
     "output_type": "execute_result"
    }
   ],
   "source": [
    "data.describe(include='all')"
   ]
  },
  {
   "cell_type": "code",
   "execution_count": 276,
   "id": "c3847b83-1615-4b85-9e62-602e805d3fe3",
   "metadata": {},
   "outputs": [
    {
     "data": {
      "text/plain": [
       "id\n",
       "5203    6\n",
       "6164    6\n",
       "6141    6\n",
       "6142    6\n",
       "6143    6\n",
       "       ..\n",
       "4678    6\n",
       "4679    6\n",
       "4680    6\n",
       "4681    6\n",
       "2401    5\n",
       "Name: count, Length: 12447, dtype: int64"
      ]
     },
     "execution_count": 276,
     "metadata": {},
     "output_type": "execute_result"
    }
   ],
   "source": [
    "id_types=data['id'].value_counts()\n",
    "id_types"
   ]
  },
  {
   "cell_type": "code",
   "execution_count": 278,
   "id": "b6c58035-95fd-48dc-9fe1-5467601dce61",
   "metadata": {},
   "outputs": [
    {
     "data": {
      "image/png": "[encoded data removed]",
      "text/plain": [
       "<Figure size 640x480 with 1 Axes>"
      ]
     },
     "metadata": {},
     "output_type": "display_data"
    }
   ],
   "source": [
    "sns.barplot(y=id_types.index,x=id_types.values)\n",
    "plt.xlabel('Types')\n",
    "plt.ylabel('Count')\n",
    "plt.title('Id VS Count')\n",
    "plt.show()"
   ]
  },
  {
   "cell_type": "code",
   "execution_count": 279,
   "id": "e80e4e4c-f447-4b18-8b16-bc3f4629f722",
   "metadata": {},
   "outputs": [
    {
     "data": {
      "text/plain": [
       "game\n",
       "TomClancysRainbowSix                 2400\n",
       "MaddenNFL                            2400\n",
       "Microsoft                            2400\n",
       "LeagueOfLegends                      2394\n",
       "CallOfDuty                           2394\n",
       "Verizon                              2382\n",
       "CallOfDutyBlackopsColdWar            2376\n",
       "ApexLegends                          2376\n",
       "Facebook                             2370\n",
       "WorldOfCraft                         2364\n",
       "Dota2                                2364\n",
       "NBA2K                                2352\n",
       "TomClancysGhostRecon                 2346\n",
       "Battlefield                          2346\n",
       "FIFA                                 2340\n",
       "Xbox(Xseries)                        2334\n",
       "Overwatch                            2334\n",
       "johnson&johnson                      2328\n",
       "Amazon                               2316\n",
       "PlayStation5(PS5)                    2310\n",
       "HomeDepot                            2310\n",
       "Cyberpunk2077                        2304\n",
       "CS-GO                                2304\n",
       "GrandTheftAuto(GTA)                  2304\n",
       "Hearthstone                          2298\n",
       "Nvidia                               2298\n",
       "Google                               2298\n",
       "Borderlands                          2285\n",
       "PlayerUnknownsBattlegrounds(PUBG)    2274\n",
       "Fortnite                             2274\n",
       "RedDeadRedemption(RDR)               2262\n",
       "AssassinsCreed                       2244\n",
       "Name: count, dtype: int64"
      ]
     },
     "execution_count": 279,
     "metadata": {},
     "output_type": "execute_result"
    }
   ],
   "source": [
    "game_types=data['game'].value_counts()\n",
    "game_types"
   ]
  },
  {
   "cell_type": "code",
   "execution_count": 282,
   "id": "bacaae6b-93c0-49e0-a942-a5a6653e85f5",
   "metadata": {},
   "outputs": [
    {
     "data": {
      "image/png": "[encoded data removed]",
      "text/plain": [
       "<Figure size 640x480 with 1 Axes>"
      ]
     },
     "metadata": {},
     "output_type": "display_data"
    }
   ],
   "source": [
    "sns.barplot(x=game_types.index,y=game_types.values)\n",
    "plt.xlabel('Type')\n",
    "plt.ylabel('Count')\n",
    "plt.title('Games nd their counts')\n",
    "plt.xticks(rotation=90)\n",
    "plt.show()"
   ]
  },
  {
   "cell_type": "code",
   "execution_count": 283,
   "id": "58f5f686-68f8-4be1-99eb-9903d99ec7db",
   "metadata": {},
   "outputs": [
    {
     "data": {
      "text/plain": [
       "<Axes: xlabel='game', ylabel='count'>"
      ]
     },
     "execution_count": 283,
     "metadata": {},
     "output_type": "execute_result"
    },
    {
     "data": {
      "image/png": "[encoded data removed]",
      "text/plain": [
       "<Figure size 640x480 with 1 Axes>"
      ]
     },
     "metadata": {},
     "output_type": "display_data"
    }
   ],
   "source": [
    "sns.countplot(x='game',hue='sentiment',data=data)"
   ]
  },
  {
   "cell_type": "code",
   "execution_count": 284,
   "id": "0398be48-3d22-40b2-970c-dabe50e6eb2e",
   "metadata": {},
   "outputs": [
    {
     "data": {
      "text/plain": [
       "<Axes: >"
      ]
     },
     "execution_count": 284,
     "metadata": {},
     "output_type": "execute_result"
    },
    {
     "data": {
      "image/png": "[encoded data removed]",
      "text/plain": [
       "<Figure size 640x480 with 2 Axes>"
      ]
     },
     "metadata": {},
     "output_type": "display_data"
    }
   ],
   "source": [
    "sns.heatmap(data.isnull(),yticklabels=False)"
   ]
  },
  {
   "cell_type": "code",
   "execution_count": 286,
   "id": "f93da5c0-a766-4870-b4a6-8a3256f6d1bc",
   "metadata": {},
   "outputs": [
    {
     "name": "stdout",
     "output_type": "stream",
     "text": [
      "Total records= 74681\n"
     ]
    },
    {
     "data": {
      "text/html": [
       "<div>\n",
       "<style scoped>\n",
       "    .dataframe tbody tr th:only-of-type {\n",
       "        vertical-align: middle;\n",
       "    }\n",
       "\n",
       "    .dataframe tbody tr th {\n",
       "        vertical-align: top;\n",
       "    }\n",
       "\n",
       "    .dataframe thead th {\n",
       "        text-align: right;\n",
       "    }\n",
       "</style>\n",
       "<table border=\"1\" class=\"dataframe\">\n",
       "  <thead>\n",
       "    <tr style=\"text-align: right;\">\n",
       "      <th></th>\n",
       "      <th>Total missing</th>\n",
       "      <th>In Percent</th>\n",
       "    </tr>\n",
       "  </thead>\n",
       "  <tbody>\n",
       "    <tr>\n",
       "      <th>id</th>\n",
       "      <td>0</td>\n",
       "      <td>0.00</td>\n",
       "    </tr>\n",
       "    <tr>\n",
       "      <th>game</th>\n",
       "      <td>0</td>\n",
       "      <td>0.00</td>\n",
       "    </tr>\n",
       "    <tr>\n",
       "      <th>sentiment</th>\n",
       "      <td>0</td>\n",
       "      <td>0.00</td>\n",
       "    </tr>\n",
       "    <tr>\n",
       "      <th>text</th>\n",
       "      <td>686</td>\n",
       "      <td>0.92</td>\n",
       "    </tr>\n",
       "  </tbody>\n",
       "</table>\n",
       "</div>"
      ],
      "text/plain": [
       "           Total missing  In Percent\n",
       "id                     0        0.00\n",
       "game                   0        0.00\n",
       "sentiment              0        0.00\n",
       "text                 686        0.92"
      ]
     },
     "execution_count": 286,
     "metadata": {},
     "output_type": "execute_result"
    }
   ],
   "source": [
    "total_null=data.isnull().sum()\n",
    "percent=((data.isnull().sum()/data.isnull().count())*100)\n",
    "print(\"Total records=\",data.shape[0])\n",
    "missing_data=pd.concat([total_null,percent.round(2)],axis=1,keys=['Total missing','In Percent'])\n",
    "missing_data"
   ]
  },
  {
   "cell_type": "code",
   "execution_count": 287,
   "id": "d87b12a7-a5f3-4f45-a4ac-7d23a297243f",
   "metadata": {},
   "outputs": [
    {
     "name": "stdout",
     "output_type": "stream",
     "text": [
      "Total records= 73995\n"
     ]
    },
    {
     "data": {
      "text/html": [
       "<div>\n",
       "<style scoped>\n",
       "    .dataframe tbody tr th:only-of-type {\n",
       "        vertical-align: middle;\n",
       "    }\n",
       "\n",
       "    .dataframe tbody tr th {\n",
       "        vertical-align: top;\n",
       "    }\n",
       "\n",
       "    .dataframe thead th {\n",
       "        text-align: right;\n",
       "    }\n",
       "</style>\n",
       "<table border=\"1\" class=\"dataframe\">\n",
       "  <thead>\n",
       "    <tr style=\"text-align: right;\">\n",
       "      <th></th>\n",
       "      <th>Total missing</th>\n",
       "      <th>In Percent</th>\n",
       "    </tr>\n",
       "  </thead>\n",
       "  <tbody>\n",
       "    <tr>\n",
       "      <th>id</th>\n",
       "      <td>0</td>\n",
       "      <td>0.0</td>\n",
       "    </tr>\n",
       "    <tr>\n",
       "      <th>game</th>\n",
       "      <td>0</td>\n",
       "      <td>0.0</td>\n",
       "    </tr>\n",
       "    <tr>\n",
       "      <th>sentiment</th>\n",
       "      <td>0</td>\n",
       "      <td>0.0</td>\n",
       "    </tr>\n",
       "    <tr>\n",
       "      <th>text</th>\n",
       "      <td>0</td>\n",
       "      <td>0.0</td>\n",
       "    </tr>\n",
       "  </tbody>\n",
       "</table>\n",
       "</div>"
      ],
      "text/plain": [
       "           Total missing  In Percent\n",
       "id                     0         0.0\n",
       "game                   0         0.0\n",
       "sentiment              0         0.0\n",
       "text                   0         0.0"
      ]
     },
     "execution_count": 287,
     "metadata": {},
     "output_type": "execute_result"
    }
   ],
   "source": [
    "data.dropna(subset=['text'],inplace=True)\n",
    "\n",
    "total_null=data.isnull().sum()\n",
    "percent=((data.isnull().sum()/data.isnull().count())*100)\n",
    "print(\"Total records=\",data.shape[0])\n",
    "missing_data=pd.concat([total_null,percent.round(2)],axis=1,keys=['Total missing','In Percent'])\n",
    "missing_data"
   ]
  },
  {
   "cell_type": "code",
   "execution_count": 288,
   "id": "b710c56a-c4fe-484f-89d0-86d843d51d30",
   "metadata": {},
   "outputs": [],
   "source": [
    "train0=data[data['sentiment']=='Negative']\n",
    "train1=data[data['sentiment']=='Positive']\n",
    "train2=data[data['sentiment']=='Irrelevant']\n",
    "train3=data[data['sentiment']=='Neutral']"
   ]
  },
  {
   "cell_type": "code",
   "execution_count": 290,
   "id": "4db3cfa1-f28a-4a9c-8124-a2262b1e658f",
   "metadata": {},
   "outputs": [
    {
     "data": {
      "text/plain": [
       "(22358, 4)"
      ]
     },
     "execution_count": 290,
     "metadata": {},
     "output_type": "execute_result"
    }
   ],
   "source": [
    "train0.shape"
   ]
  },
  {
   "cell_type": "code",
   "execution_count": 291,
   "id": "feca6ac6-2391-4db9-960d-409c44e18f62",
   "metadata": {},
   "outputs": [
    {
     "data": {
      "text/plain": [
       "(20654, 4)"
      ]
     },
     "execution_count": 291,
     "metadata": {},
     "output_type": "execute_result"
    }
   ],
   "source": [
    "train1.shape"
   ]
  },
  {
   "cell_type": "code",
   "execution_count": 292,
   "id": "50969f2d-ff6f-45d5-993b-a9de9c306d10",
   "metadata": {},
   "outputs": [
    {
     "data": {
      "text/plain": [
       "(12875, 4)"
      ]
     },
     "execution_count": 292,
     "metadata": {},
     "output_type": "execute_result"
    }
   ],
   "source": [
    "train2.shape"
   ]
  },
  {
   "cell_type": "code",
   "execution_count": 295,
   "id": "7c6ac9a0-f1f6-4a05-a8ee-7e9ab10c4186",
   "metadata": {},
   "outputs": [
    {
     "data": {
      "text/plain": [
       "(18108, 4)"
      ]
     },
     "execution_count": 295,
     "metadata": {},
     "output_type": "execute_result"
    }
   ],
   "source": [
    "train3.shape"
   ]
  },
  {
   "cell_type": "code",
   "execution_count": 301,
   "id": "e233eac8-8f15-4429-bf64-0c914dfe2295",
   "metadata": {},
   "outputs": [
    {
     "data": {
      "text/plain": [
       "(         id           game sentiment  \\\n",
       " 23     2405    Borderlands  Negative   \n",
       " 24     2405    Borderlands  Negative   \n",
       " 25     2405    Borderlands  Negative   \n",
       " 26     2405    Borderlands  Negative   \n",
       " 27     2405    Borderlands  Negative   \n",
       " ...     ...            ...       ...   \n",
       " 9545  12843  Xbox(Xseries)  Negative   \n",
       " 9546  12843  Xbox(Xseries)  Negative   \n",
       " 9547  12843  Xbox(Xseries)  Negative   \n",
       " 9548  12843  Xbox(Xseries)  Negative   \n",
       " 9549  12843  Xbox(Xseries)  Negative   \n",
       " \n",
       "                                                    text  \n",
       " 23    the biggest dissappoinment in my life came out...  \n",
       " 24    The biggest disappointment of my life came a y...  \n",
       " 25    The biggest disappointment of my life came a y...  \n",
       " 26    the biggest dissappoinment in my life coming o...  \n",
       " 27    For the biggest male dissappoinment in my life...  \n",
       " ...                                                 ...  \n",
       " 9545  \"next gen performance\" . \"most small xbox EVER...  \n",
       " 9546  \"next gen performance.\" \"most small xbox ever....  \n",
       " 9547  \"next gen performance.\" \"most small xbox EVER....  \n",
       " 9548  \"next gen performance\". \"most small xbox EVER\"...  \n",
       " 9549  \" next whole gen possible performance \". \" mos...  \n",
       " \n",
       " [2235 rows x 4 columns],\n",
       "         id         game sentiment  \\\n",
       " 0     2401  Borderlands  Positive   \n",
       " 1     2401  Borderlands  Positive   \n",
       " 2     2401  Borderlands  Positive   \n",
       " 3     2401  Borderlands  Positive   \n",
       " 4     2401  Borderlands  Positive   \n",
       " ...    ...          ...       ...   \n",
       " 6125   255       Amazon  Positive   \n",
       " 6126   255       Amazon  Positive   \n",
       " 6127   255       Amazon  Positive   \n",
       " 6128   255       Amazon  Positive   \n",
       " 6129   255       Amazon  Positive   \n",
       " \n",
       "                                                    text  \n",
       " 0     I am coming to the borders and I will kill you...  \n",
       " 1     im getting on borderlands and i will kill you ...  \n",
       " 2     im coming on borderlands and i will murder you...  \n",
       " 3     im getting on borderlands 2 and i will murder ...  \n",
       " 4     im getting into borderlands and i can murder y...  \n",
       " ...                                                 ...  \n",
       " 6125  @gur_kulkarni Hi! Thank you for choosing to ce...  \n",
       " 6126  @ gur _ kulkarni Hello! Thank you for choosing...  \n",
       " 6127  @ gur _ karni Hi! Thank you for choosing to ce...  \n",
       " 6128  RhandlerR Hi! Thank you for choosing to celebr...  \n",
       " 6129  or RhandlerR Hi! Thank you for choosing to cel...  \n",
       " \n",
       " [2065 rows x 4 columns],\n",
       "         id         game   sentiment  \\\n",
       " 101   2418  Borderlands  Irrelevant   \n",
       " 102   2418  Borderlands  Irrelevant   \n",
       " 103   2418  Borderlands  Irrelevant   \n",
       " 104   2418  Borderlands  Irrelevant   \n",
       " 105   2418  Borderlands  Irrelevant   \n",
       " ...    ...          ...         ...   \n",
       " 8239  9414    Overwatch  Irrelevant   \n",
       " 8240  9414    Overwatch  Irrelevant   \n",
       " 8241  9414    Overwatch  Irrelevant   \n",
       " 8242  9414    Overwatch  Irrelevant   \n",
       " 8261  9418    Overwatch  Irrelevant   \n",
       " \n",
       "                                                    text  \n",
       " 101   Appreciate the (sonic) concepts / praxis Valen...  \n",
       " 102   Appreciate the (sound) concepts / practices th...  \n",
       " 103   Evaluate the (sound) concepts / concepts of Va...  \n",
       " 104   Appreciate the (sonic) concepts / praxis Valen...  \n",
       " 105   Appreciate by the ( sonic ) electronic concept...  \n",
       " ...                                                 ...  \n",
       " 8239  . @ TPAIN..... Come @ PlayOverwatch with some ...  \n",
       " 8240  .@TPAIN....<unk> Come @PlayOverwatch with some...  \n",
       " 8241  . 14 @TPAIN..... all Come @PlayOverwatch down ...  \n",
       " 8242  .@TPAIN..... The @PlayOverwatch find us more u...  \n",
       " 8261  So it turns out I’m terrible at Overwatch on P...  \n",
       " \n",
       " [1287 rows x 4 columns],\n",
       "         id         game sentiment  \\\n",
       " 11    2403  Borderlands   Neutral   \n",
       " 12    2403  Borderlands   Neutral   \n",
       " 13    2403  Borderlands   Neutral   \n",
       " 14    2403  Borderlands   Neutral   \n",
       " 15    2403  Borderlands   Neutral   \n",
       " ...    ...          ...       ...   \n",
       " 6185   265       Amazon   Neutral   \n",
       " 6186   265       Amazon   Neutral   \n",
       " 6187   265       Amazon   Neutral   \n",
       " 6188   265       Amazon   Neutral   \n",
       " 6189   265       Amazon   Neutral   \n",
       " \n",
       "                                                    text  \n",
       " 11    Rock-Hard La Varlope, RARE & POWERFUL, HANDSOM...  \n",
       " 12    Rock-Hard La Varlope, RARE & POWERFUL, HANDSOM...  \n",
       " 13    Rock-Hard La Varlope, RARE & POWERFUL, HANDSOM...  \n",
       " 14    Rock-Hard La Vita, RARE BUT POWERFUL, HANDSOME...  \n",
       " 15    Live Rock - Hard music La la Varlope, RARE & t...  \n",
       " ...                                                 ...  \n",
       " 6185  Turmoil in Turkey by Jon Grainge amazon.com/dp...  \n",
       " 6186  Turmoil in Turkey by Jon Grainge amazon.com / ...  \n",
       " 6187  Turmoil in Turmoil in Turkey by Jon Grainge am...  \n",
       " 6188  Turmoil Comes Turkey by Jon Grainge amazon.com...  \n",
       " 6189  Water Turmoil in Turkey published by Paul Jon ...  \n",
       " \n",
       " [1810 rows x 4 columns])"
      ]
     },
     "execution_count": 301,
     "metadata": {},
     "output_type": "execute_result"
    }
   ],
   "source": [
    "train0=train0[:int(train0.shape[0]/10)]\n",
    "train1=train1[:int(train1.shape[0]/10)]\n",
    "train2=train2[:int(train2.shape[0]/10)]\n",
    "train3=train3[:int(train3.shape[0]/10)]\n",
    "train0, train1, train2, train3"
   ]
  },
  {
   "cell_type": "code",
   "execution_count": 303,
   "id": "68335f53-318a-433c-81e4-ee4367d303fe",
   "metadata": {},
   "outputs": [
    {
     "data": {
      "text/html": [
       "<div>\n",
       "<style scoped>\n",
       "    .dataframe tbody tr th:only-of-type {\n",
       "        vertical-align: middle;\n",
       "    }\n",
       "\n",
       "    .dataframe tbody tr th {\n",
       "        vertical-align: top;\n",
       "    }\n",
       "\n",
       "    .dataframe thead th {\n",
       "        text-align: right;\n",
       "    }\n",
       "</style>\n",
       "<table border=\"1\" class=\"dataframe\">\n",
       "  <thead>\n",
       "    <tr style=\"text-align: right;\">\n",
       "      <th></th>\n",
       "      <th>id</th>\n",
       "      <th>game</th>\n",
       "      <th>sentiment</th>\n",
       "      <th>text</th>\n",
       "    </tr>\n",
       "  </thead>\n",
       "  <tbody>\n",
       "    <tr>\n",
       "      <th>23</th>\n",
       "      <td>2405</td>\n",
       "      <td>Borderlands</td>\n",
       "      <td>Negative</td>\n",
       "      <td>the biggest dissappoinment in my life came out...</td>\n",
       "    </tr>\n",
       "    <tr>\n",
       "      <th>24</th>\n",
       "      <td>2405</td>\n",
       "      <td>Borderlands</td>\n",
       "      <td>Negative</td>\n",
       "      <td>The biggest disappointment of my life came a y...</td>\n",
       "    </tr>\n",
       "    <tr>\n",
       "      <th>25</th>\n",
       "      <td>2405</td>\n",
       "      <td>Borderlands</td>\n",
       "      <td>Negative</td>\n",
       "      <td>The biggest disappointment of my life came a y...</td>\n",
       "    </tr>\n",
       "    <tr>\n",
       "      <th>26</th>\n",
       "      <td>2405</td>\n",
       "      <td>Borderlands</td>\n",
       "      <td>Negative</td>\n",
       "      <td>the biggest dissappoinment in my life coming o...</td>\n",
       "    </tr>\n",
       "    <tr>\n",
       "      <th>27</th>\n",
       "      <td>2405</td>\n",
       "      <td>Borderlands</td>\n",
       "      <td>Negative</td>\n",
       "      <td>For the biggest male dissappoinment in my life...</td>\n",
       "    </tr>\n",
       "    <tr>\n",
       "      <th>...</th>\n",
       "      <td>...</td>\n",
       "      <td>...</td>\n",
       "      <td>...</td>\n",
       "      <td>...</td>\n",
       "    </tr>\n",
       "    <tr>\n",
       "      <th>6185</th>\n",
       "      <td>265</td>\n",
       "      <td>Amazon</td>\n",
       "      <td>Neutral</td>\n",
       "      <td>Turmoil in Turkey by Jon Grainge amazon.com/dp...</td>\n",
       "    </tr>\n",
       "    <tr>\n",
       "      <th>6186</th>\n",
       "      <td>265</td>\n",
       "      <td>Amazon</td>\n",
       "      <td>Neutral</td>\n",
       "      <td>Turmoil in Turkey by Jon Grainge amazon.com / ...</td>\n",
       "    </tr>\n",
       "    <tr>\n",
       "      <th>6187</th>\n",
       "      <td>265</td>\n",
       "      <td>Amazon</td>\n",
       "      <td>Neutral</td>\n",
       "      <td>Turmoil in Turmoil in Turkey by Jon Grainge am...</td>\n",
       "    </tr>\n",
       "    <tr>\n",
       "      <th>6188</th>\n",
       "      <td>265</td>\n",
       "      <td>Amazon</td>\n",
       "      <td>Neutral</td>\n",
       "      <td>Turmoil Comes Turkey by Jon Grainge amazon.com...</td>\n",
       "    </tr>\n",
       "    <tr>\n",
       "      <th>6189</th>\n",
       "      <td>265</td>\n",
       "      <td>Amazon</td>\n",
       "      <td>Neutral</td>\n",
       "      <td>Water Turmoil in Turkey published by Paul Jon ...</td>\n",
       "    </tr>\n",
       "  </tbody>\n",
       "</table>\n",
       "<p>7397 rows × 4 columns</p>\n",
       "</div>"
      ],
      "text/plain": [
       "        id         game sentiment  \\\n",
       "23    2405  Borderlands  Negative   \n",
       "24    2405  Borderlands  Negative   \n",
       "25    2405  Borderlands  Negative   \n",
       "26    2405  Borderlands  Negative   \n",
       "27    2405  Borderlands  Negative   \n",
       "...    ...          ...       ...   \n",
       "6185   265       Amazon   Neutral   \n",
       "6186   265       Amazon   Neutral   \n",
       "6187   265       Amazon   Neutral   \n",
       "6188   265       Amazon   Neutral   \n",
       "6189   265       Amazon   Neutral   \n",
       "\n",
       "                                                   text  \n",
       "23    the biggest dissappoinment in my life came out...  \n",
       "24    The biggest disappointment of my life came a y...  \n",
       "25    The biggest disappointment of my life came a y...  \n",
       "26    the biggest dissappoinment in my life coming o...  \n",
       "27    For the biggest male dissappoinment in my life...  \n",
       "...                                                 ...  \n",
       "6185  Turmoil in Turkey by Jon Grainge amazon.com/dp...  \n",
       "6186  Turmoil in Turkey by Jon Grainge amazon.com / ...  \n",
       "6187  Turmoil in Turmoil in Turkey by Jon Grainge am...  \n",
       "6188  Turmoil Comes Turkey by Jon Grainge amazon.com...  \n",
       "6189  Water Turmoil in Turkey published by Paul Jon ...  \n",
       "\n",
       "[7397 rows x 4 columns]"
      ]
     },
     "execution_count": 303,
     "metadata": {},
     "output_type": "execute_result"
    }
   ],
   "source": [
    "data=pd.concat([train0,train1,train2,train3],axis=0)\n",
    "data\n"
   ]
  },
  {
   "cell_type": "code",
   "execution_count": 306,
   "id": "59fb3449-25d5-4c4a-abeb-b6d3081e82c3",
   "metadata": {},
   "outputs": [
    {
     "data": {
      "text/plain": [
       "id\n",
       "2405    6\n",
       "1842    6\n",
       "1874    6\n",
       "1869    6\n",
       "1865    6\n",
       "       ..\n",
       "246     3\n",
       "1929    3\n",
       "1959    3\n",
       "16      3\n",
       "9418    1\n",
       "Name: count, Length: 1247, dtype: int64"
      ]
     },
     "execution_count": 306,
     "metadata": {},
     "output_type": "execute_result"
    }
   ],
   "source": [
    "id_types=data['id'].value_counts()\n",
    "id_types"
   ]
  },
  {
   "cell_type": "code",
   "execution_count": 308,
   "id": "666afa0c-3853-468c-8b9a-dc9b44b64a26",
   "metadata": {},
   "outputs": [
    {
     "data": {
      "image/png": "[encoded data removed]",
      "text/plain": [
       "<Figure size 640x480 with 1 Axes>"
      ]
     },
     "metadata": {},
     "output_type": "display_data"
    }
   ],
   "source": [
    "sns.barplot(x=id_types , y=id_types.index)\n",
    "plt.xlabel('Types')\n",
    "plt.ylabel('Count')\n",
    "plt.title('id types and their counts')\n",
    "plt.show()"
   ]
  },
  {
   "cell_type": "code",
   "execution_count": 309,
   "id": "376db050-1321-423f-873d-43ad187cb9c1",
   "metadata": {},
   "outputs": [
    {
     "data": {
      "text/plain": [
       "game\n",
       "CallOfDutyBlackopsColdWar    2343\n",
       "Borderlands                  2279\n",
       "Amazon                       1815\n",
       "Overwatch                     919\n",
       "Xbox(Xseries)                  41\n",
       "Name: count, dtype: int64"
      ]
     },
     "execution_count": 309,
     "metadata": {},
     "output_type": "execute_result"
    }
   ],
   "source": [
    "game_type=data['game'].value_counts()\n",
    "game_type"
   ]
  },
  {
   "cell_type": "code",
   "execution_count": 312,
   "id": "b861c875-e7d6-4451-9789-561f4dd98e1e",
   "metadata": {},
   "outputs": [
    {
     "data": {
      "image/png": "[encoded data removed]",
      "text/plain": [
       "<Figure size 640x480 with 1 Axes>"
      ]
     },
     "metadata": {},
     "output_type": "display_data"
    }
   ],
   "source": [
    "sns.barplot(x=game_type.values, y=game_type.index)\n",
    "plt.xlabel('Counts')\n",
    "plt.ylabel('Types')\n",
    "plt.title('game type and their counts')\n",
    "plt.show()"
   ]
  },
  {
   "cell_type": "code",
   "execution_count": 314,
   "id": "f103e1a9-ac6d-4948-81e4-0343ea22f4f5",
   "metadata": {},
   "outputs": [
    {
     "data": {
      "text/plain": [
       "sentiment\n",
       "Negative      2235\n",
       "Positive      2065\n",
       "Neutral       1810\n",
       "Irrelevant    1287\n",
       "Name: count, dtype: int64"
      ]
     },
     "execution_count": 314,
     "metadata": {},
     "output_type": "execute_result"
    }
   ],
   "source": [
    "sentiment_type=data['sentiment'].value_counts()\n",
    "sentiment_type"
   ]
  },
  {
   "cell_type": "code",
   "execution_count": 316,
   "id": "b37061a0-5068-49ab-b614-48bede15b58c",
   "metadata": {},
   "outputs": [
    {
     "data": {
      "image/png": "[encoded data removed]",
      "text/plain": [
       "<Figure size 640x480 with 1 Axes>"
      ]
     },
     "metadata": {},
     "output_type": "display_data"
    }
   ],
   "source": [
    "sns.barplot(x=sentiment_type.values, y=sentiment_type.index)\n",
    "plt.xlabel('Counts')\n",
    "plt.ylabel('Types')\n",
    "plt.title('sentiment type and their counts')\n",
    "plt.show()"
   ]
  },
  {
   "cell_type": "code",
   "execution_count": 318,
   "id": "fc3bed92-f71e-4ddc-a06b-18d143ee6e44",
   "metadata": {},
   "outputs": [
    {
     "data": {
      "image/png": "[encoded data removed]",
      "text/plain": [
       "<Figure size 640x480 with 1 Axes>"
      ]
     },
     "metadata": {},
     "output_type": "display_data"
    }
   ],
   "source": [
    "plt.pie(x=sentiment_type.values, labels=sentiment_type.index, autopct='%.1f%%')\n",
    "plt.title('sentiment type and their counts')\n",
    "plt.show()"
   ]
  },
  {
   "cell_type": "code",
   "execution_count": 320,
   "id": "17fd954e-a06a-4040-af02-467e5d4e3c68",
   "metadata": {},
   "outputs": [
    {
     "data": {
      "text/plain": [
       "<Axes: xlabel='game', ylabel='count'>"
      ]
     },
     "execution_count": 320,
     "metadata": {},
     "output_type": "execute_result"
    },
    {
     "data": {
      "image/png": "[encoded data removed]",
      "text/plain": [
       "<Figure size 640x480 with 1 Axes>"
      ]
     },
     "metadata": {},
     "output_type": "display_data"
    }
   ],
   "source": [
    "sns.countplot(x='game',hue='sentiment',data=data)"
   ]
  },
  {
   "cell_type": "code",
   "execution_count": 321,
   "id": "ab866a05-2c1c-4e2a-9039-4333d943a78e",
   "metadata": {},
   "outputs": [],
   "source": [
    "from sklearn import preprocessing\n",
    "label_encoder=preprocessing.LabelEncoder()"
   ]
  },
  {
   "cell_type": "code",
   "execution_count": 324,
   "id": "1cc9a831-36f0-4221-9f54-fa9d270b7637",
   "metadata": {},
   "outputs": [],
   "source": [
    "data['sentiment']=label_encoder.fit_transform(data['sentiment'])\n",
    "data['game']=label_encoder.fit_transform(data['game'])\n",
    "v_data['sentiment']=label_encoder.fit_transform(v_data['sentiment'])\n",
    "v_data['game']=label_encoder.fit_transform(v_data['game'])"
   ]
  },
  {
   "cell_type": "code",
   "execution_count": 326,
   "id": "05c8dac6-588d-40a4-a427-ac14f070ce97",
   "metadata": {},
   "outputs": [
    {
     "data": {
      "text/html": [
       "<div>\n",
       "<style scoped>\n",
       "    .dataframe tbody tr th:only-of-type {\n",
       "        vertical-align: middle;\n",
       "    }\n",
       "\n",
       "    .dataframe tbody tr th {\n",
       "        vertical-align: top;\n",
       "    }\n",
       "\n",
       "    .dataframe thead th {\n",
       "        text-align: right;\n",
       "    }\n",
       "</style>\n",
       "<table border=\"1\" class=\"dataframe\">\n",
       "  <thead>\n",
       "    <tr style=\"text-align: right;\">\n",
       "      <th></th>\n",
       "      <th>game</th>\n",
       "      <th>sentiment</th>\n",
       "      <th>text</th>\n",
       "    </tr>\n",
       "  </thead>\n",
       "  <tbody>\n",
       "    <tr>\n",
       "      <th>23</th>\n",
       "      <td>1</td>\n",
       "      <td>1</td>\n",
       "      <td>the biggest dissappoinment in my life came out...</td>\n",
       "    </tr>\n",
       "    <tr>\n",
       "      <th>24</th>\n",
       "      <td>1</td>\n",
       "      <td>1</td>\n",
       "      <td>The biggest disappointment of my life came a y...</td>\n",
       "    </tr>\n",
       "    <tr>\n",
       "      <th>25</th>\n",
       "      <td>1</td>\n",
       "      <td>1</td>\n",
       "      <td>The biggest disappointment of my life came a y...</td>\n",
       "    </tr>\n",
       "    <tr>\n",
       "      <th>26</th>\n",
       "      <td>1</td>\n",
       "      <td>1</td>\n",
       "      <td>the biggest dissappoinment in my life coming o...</td>\n",
       "    </tr>\n",
       "    <tr>\n",
       "      <th>27</th>\n",
       "      <td>1</td>\n",
       "      <td>1</td>\n",
       "      <td>For the biggest male dissappoinment in my life...</td>\n",
       "    </tr>\n",
       "    <tr>\n",
       "      <th>...</th>\n",
       "      <td>...</td>\n",
       "      <td>...</td>\n",
       "      <td>...</td>\n",
       "    </tr>\n",
       "    <tr>\n",
       "      <th>6185</th>\n",
       "      <td>0</td>\n",
       "      <td>2</td>\n",
       "      <td>Turmoil in Turkey by Jon Grainge amazon.com/dp...</td>\n",
       "    </tr>\n",
       "    <tr>\n",
       "      <th>6186</th>\n",
       "      <td>0</td>\n",
       "      <td>2</td>\n",
       "      <td>Turmoil in Turkey by Jon Grainge amazon.com / ...</td>\n",
       "    </tr>\n",
       "    <tr>\n",
       "      <th>6187</th>\n",
       "      <td>0</td>\n",
       "      <td>2</td>\n",
       "      <td>Turmoil in Turmoil in Turkey by Jon Grainge am...</td>\n",
       "    </tr>\n",
       "    <tr>\n",
       "      <th>6188</th>\n",
       "      <td>0</td>\n",
       "      <td>2</td>\n",
       "      <td>Turmoil Comes Turkey by Jon Grainge amazon.com...</td>\n",
       "    </tr>\n",
       "    <tr>\n",
       "      <th>6189</th>\n",
       "      <td>0</td>\n",
       "      <td>2</td>\n",
       "      <td>Water Turmoil in Turkey published by Paul Jon ...</td>\n",
       "    </tr>\n",
       "  </tbody>\n",
       "</table>\n",
       "<p>7397 rows × 3 columns</p>\n",
       "</div>"
      ],
      "text/plain": [
       "      game  sentiment                                               text\n",
       "23       1          1  the biggest dissappoinment in my life came out...\n",
       "24       1          1  The biggest disappointment of my life came a y...\n",
       "25       1          1  The biggest disappointment of my life came a y...\n",
       "26       1          1  the biggest dissappoinment in my life coming o...\n",
       "27       1          1  For the biggest male dissappoinment in my life...\n",
       "...    ...        ...                                                ...\n",
       "6185     0          2  Turmoil in Turkey by Jon Grainge amazon.com/dp...\n",
       "6186     0          2  Turmoil in Turkey by Jon Grainge amazon.com / ...\n",
       "6187     0          2  Turmoil in Turmoil in Turkey by Jon Grainge am...\n",
       "6188     0          2  Turmoil Comes Turkey by Jon Grainge amazon.com...\n",
       "6189     0          2  Water Turmoil in Turkey published by Paul Jon ...\n",
       "\n",
       "[7397 rows x 3 columns]"
      ]
     },
     "execution_count": 326,
     "metadata": {},
     "output_type": "execute_result"
    }
   ],
   "source": [
    "data=data.drop(['id'],axis=1)\n",
    "data"
   ]
  },
  {
   "cell_type": "code",
   "execution_count": 331,
   "id": "04f4245c-eb3e-4d31-8e0f-d8c7344fd709",
   "metadata": {},
   "outputs": [
    {
     "data": {
      "text/plain": [
       "game            5\n",
       "sentiment       4\n",
       "text         7033\n",
       "dtype: int64"
      ]
     },
     "execution_count": 331,
     "metadata": {},
     "output_type": "execute_result"
    }
   ],
   "source": [
    "data.nunique()"
   ]
  },
  {
   "cell_type": "code",
   "execution_count": 335,
   "id": "ac901691-eb38-48f9-9825-4efc50e556de",
   "metadata": {},
   "outputs": [
    {
     "data": {
      "text/plain": [
       "id           999\n",
       "game          32\n",
       "sentiment      4\n",
       "text         998\n",
       "dtype: int64"
      ]
     },
     "execution_count": 335,
     "metadata": {},
     "output_type": "execute_result"
    }
   ],
   "source": [
    "v_data.nunique()"
   ]
  },
  {
   "cell_type": "code",
   "execution_count": null,
   "id": "075bf1a4-f50b-40a9-8439-f330f8c22f83",
   "metadata": {},
   "outputs": [],
   "source": []
  }
 ],
 "metadata": {
  "kernelspec": {
   "display_name": "Python 3 (ipykernel)",
   "language": "python",
   "name": "python3"
  },
  "language_info": {
   "codemirror_mode": {
    "name": "ipython",
    "version": 3
   },
   "file_extension": ".py",
   "mimetype": "text/x-python",
   "name": "python",
   "nbconvert_exporter": "python",
   "pygments_lexer": "ipython3",
   "version": "3.11.7"
  }
 },
 "nbformat": 4,
 "nbformat_minor": 5
}
